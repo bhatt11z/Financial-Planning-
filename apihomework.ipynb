{
 "cells": [
  {
   "cell_type": "markdown",
   "metadata": {},
   "source": [
    "# Unit 5 - Financial Planning"
   ]
  },
  {
   "cell_type": "markdown",
   "metadata": {},
   "source": [
    "## Part 1 - Personal Finance Planner"
   ]
  },
  {
   "cell_type": "markdown",
   "metadata": {},
   "source": [
    "### Intial Imports"
   ]
  },
  {
   "cell_type": "code",
   "execution_count": 1,
   "metadata": {},
   "outputs": [],
   "source": [
    "import os\n",
    "import requests\n",
    "import pandas as pd\n",
    "from dotenv import load_dotenv\n",
    "import alpaca_trade_api as tradeapi\n",
    "from MCForecastTools import MCSimulation\n",
    "\n",
    "%matplotlib inline\n",
    "import json"
   ]
  },
  {
   "cell_type": "code",
   "execution_count": 2,
   "metadata": {},
   "outputs": [
    {
     "data": {
      "text/plain": [
       "True"
      ]
     },
     "execution_count": 2,
     "metadata": {},
     "output_type": "execute_result"
    }
   ],
   "source": [
    "load_dotenv()"
   ]
  },
  {
   "cell_type": "markdown",
   "metadata": {},
   "source": [
    "#### Crypto Prices"
   ]
  },
  {
   "cell_type": "code",
   "execution_count": 7,
   "metadata": {},
   "outputs": [],
   "source": [
    "my_btc = 1.2\n",
    "my_eth = 5.3\n",
    "btc_url = \"https://api.alternative.me/v2/ticker/Bitcoin/?convert=CAD\"\n",
    "btc_url= btc_url + \"?format=json\"\n",
    "eth_url = \"https://api.alternative.me/v2/ticker/Ethereum/?convert=CAD\"\n",
    "eth_url= eth_url + \"?format=json\""
   ]
  },
  {
   "cell_type": "markdown",
   "metadata": {},
   "source": [
    "- Calling The Data"
   ]
  },
  {
   "cell_type": "code",
   "execution_count": 8,
   "metadata": {},
   "outputs": [
    {
     "data": {
      "text/plain": [
       "{'data': {'1': {'id': 1,\n",
       "   'name': 'Bitcoin',\n",
       "   'symbol': 'BTC',\n",
       "   'website_slug': 'bitcoin',\n",
       "   'rank': 1,\n",
       "   'circulating_supply': 18606912,\n",
       "   'total_supply': 18606912,\n",
       "   'max_supply': 21000000,\n",
       "   'quotes': {'USD': {'price': 30529.0,\n",
       "     'volume_24h': 78453958657,\n",
       "     'market_cap': 564452245338,\n",
       "     'percentage_change_1h': 3.185070595419,\n",
       "     'percentage_change_24h': -11.513682369327,\n",
       "     'percentage_change_7d': -22.1854328069371,\n",
       "     'percent_change_1h': 3.185070595419,\n",
       "     'percent_change_24h': -11.513682369327,\n",
       "     'percent_change_7d': -22.1854328069371}},\n",
       "   'last_updated': 1611282786}},\n",
       " 'metadata': {'timestamp': 1611282786,\n",
       "  'num_cryptocurrencies': 1383,\n",
       "  'error': None}}"
      ]
     },
     "execution_count": 8,
     "metadata": {},
     "output_type": "execute_result"
    }
   ],
   "source": [
    "btc = requests.get(btc_url).json()\n",
    "btc"
   ]
  },
  {
   "cell_type": "code",
   "execution_count": 9,
   "metadata": {},
   "outputs": [
    {
     "data": {
      "text/plain": [
       "{'data': {'1027': {'id': 1027,\n",
       "   'name': 'Ethereum',\n",
       "   'symbol': 'ETH',\n",
       "   'website_slug': 'ethereum',\n",
       "   'rank': 2,\n",
       "   'circulating_supply': 114350689,\n",
       "   'total_supply': 114350689,\n",
       "   'max_supply': 0,\n",
       "   'quotes': {'USD': {'price': 1138.62,\n",
       "     'volume_24h': 56043749421,\n",
       "     'market_cap': 130201609119,\n",
       "     'percentage_change_1h': 5.36324628531592,\n",
       "     'percentage_change_24h': -13.9275220548141,\n",
       "     'percentage_change_7d': -6.43414390986057,\n",
       "     'percent_change_1h': 5.36324628531592,\n",
       "     'percent_change_24h': -13.9275220548141,\n",
       "     'percent_change_7d': -6.43414390986057}},\n",
       "   'last_updated': 1611282625}},\n",
       " 'metadata': {'timestamp': 1611282625,\n",
       "  'num_cryptocurrencies': 1383,\n",
       "  'error': None}}"
      ]
     },
     "execution_count": 9,
     "metadata": {},
     "output_type": "execute_result"
    }
   ],
   "source": [
    "eth = requests.get(eth_url).json()\n",
    "eth"
   ]
  },
  {
   "cell_type": "markdown",
   "metadata": {},
   "source": [
    "- Computing Portfolio Value"
   ]
  },
  {
   "cell_type": "code",
   "execution_count": 10,
   "metadata": {},
   "outputs": [
    {
     "name": "stdout",
     "output_type": "stream",
     "text": [
      "The current value of your 1.2 BTC is $36634.80\n",
      "The current value of your 5.3 ETH is $6034.69\n"
     ]
    }
   ],
   "source": [
    "eth_price = eth[\"data\"][\"1027\"][\"quotes\"][\"USD\"][\"price\"] * my_eth\n",
    "btc_price = btc[\"data\"][\"1\"][\"quotes\"][\"USD\"][\"price\"] * my_btc\n",
    "print(f\"The current value of your {my_btc} BTC is ${btc_price:0.2f}\")\n",
    "print(f\"The current value of your {my_eth} ETH is ${eth_price:0.2f}\")\n"
   ]
  },
  {
   "cell_type": "markdown",
   "metadata": {},
   "source": [
    "#### Collecting Investments Data Using Alpaca: SPY (stocks) and AGG (bonds)"
   ]
  },
  {
   "cell_type": "markdown",
   "metadata": {},
   "source": [
    "- Setting Quantity"
   ]
  },
  {
   "cell_type": "code",
   "execution_count": 11,
   "metadata": {},
   "outputs": [],
   "source": [
    "my_agg = 200\n",
    "my_spy = 50"
   ]
  },
  {
   "cell_type": "markdown",
   "metadata": {},
   "source": [
    "- Prepration for pulling data from Alpaca"
   ]
  },
  {
   "cell_type": "code",
   "execution_count": 12,
   "metadata": {},
   "outputs": [],
   "source": [
    "api_key = os.getenv(\"alpaca_key\")\n",
    "api_seceret_key = os.getenv(\"alpaca_secert\")\n",
    "alpaca = tradeapi.REST(api_key,api_seceret_key, api_version= \"v2\")\n",
    "today = pd.Timestamp(\"2021-01-21\", tz=(\"America/New_york\")).isoformat()\n",
    "tickers = [\"AGG\", \"SPY\"]\n",
    "timeframe = \"1D\""
   ]
  },
  {
   "cell_type": "markdown",
   "metadata": {},
   "source": [
    "- Calling Data From Alpaca"
   ]
  },
  {
   "cell_type": "code",
   "execution_count": 13,
   "metadata": {},
   "outputs": [],
   "source": [
    "portfolio = alpaca.get_barset(tickers,timeframe,start=today,end=today).df"
   ]
  },
  {
   "cell_type": "markdown",
   "metadata": {},
   "source": [
    "- Creating Variables From The Alpaca Data"
   ]
  },
  {
   "cell_type": "code",
   "execution_count": 14,
   "metadata": {},
   "outputs": [],
   "source": [
    "spy_closing = portfolio[\"SPY\"][\"close\"].item()\n",
    "agg_closing = portfolio[\"AGG\"][\"close\"].item()"
   ]
  },
  {
   "cell_type": "markdown",
   "metadata": {},
   "source": [
    "- Computing The Portfolio Values"
   ]
  },
  {
   "cell_type": "code",
   "execution_count": 15,
   "metadata": {},
   "outputs": [
    {
     "name": "stdout",
     "output_type": "stream",
     "text": [
      " The current value of my 200 AGG shares is $23452.0\n",
      " The current value of my 50 SPY shares is $19210.0\n"
     ]
    }
   ],
   "source": [
    "my_spy_value = spy_closing*my_spy\n",
    "my_agg_value = agg_closing*my_agg\n",
    "print(f\" The current value of my {my_agg} AGG shares is ${my_agg_value}\")\n",
    "print(f\" The current value of my {my_spy} SPY shares is ${my_spy_value}\")"
   ]
  },
  {
   "cell_type": "markdown",
   "metadata": {},
   "source": [
    "## Savings Health Analysis"
   ]
  },
  {
   "cell_type": "code",
   "execution_count": 16,
   "metadata": {},
   "outputs": [],
   "source": [
    "monthly_income = 12000"
   ]
  },
  {
   "cell_type": "markdown",
   "metadata": {},
   "source": [
    "- Calculating Totals"
   ]
  },
  {
   "cell_type": "code",
   "execution_count": 17,
   "metadata": {},
   "outputs": [],
   "source": [
    "total_crypto = eth_price+btc_price\n",
    "total_share = my_agg_value+my_spy_value"
   ]
  },
  {
   "cell_type": "markdown",
   "metadata": {},
   "source": [
    "- Creating Data Frame"
   ]
  },
  {
   "cell_type": "code",
   "execution_count": 19,
   "metadata": {},
   "outputs": [
    {
     "data": {
      "text/html": [
       "<div>\n",
       "<style scoped>\n",
       "    .dataframe tbody tr th:only-of-type {\n",
       "        vertical-align: middle;\n",
       "    }\n",
       "\n",
       "    .dataframe tbody tr th {\n",
       "        vertical-align: top;\n",
       "    }\n",
       "\n",
       "    .dataframe thead th {\n",
       "        text-align: right;\n",
       "    }\n",
       "</style>\n",
       "<table border=\"1\" class=\"dataframe\">\n",
       "  <thead>\n",
       "    <tr style=\"text-align: right;\">\n",
       "      <th></th>\n",
       "      <th>0</th>\n",
       "    </tr>\n",
       "  </thead>\n",
       "  <tbody>\n",
       "    <tr>\n",
       "      <th>Crypto</th>\n",
       "      <td>42669.486</td>\n",
       "    </tr>\n",
       "    <tr>\n",
       "      <th>Shares</th>\n",
       "      <td>42662.000</td>\n",
       "    </tr>\n",
       "  </tbody>\n",
       "</table>\n",
       "</div>"
      ],
      "text/plain": [
       "                0\n",
       "Crypto  42669.486\n",
       "Shares  42662.000"
      ]
     },
     "execution_count": 19,
     "metadata": {},
     "output_type": "execute_result"
    }
   ],
   "source": [
    "\n",
    "df_saving= pd.DataFrame([total_crypto,total_share],index=[\"Crypto\",\"Shares\"])\n",
    "df_saving"
   ]
  },
  {
   "cell_type": "code",
   "execution_count": 20,
   "metadata": {},
   "outputs": [],
   "source": [
    "df_saving.rename(columns={0:\"Amount\"}, inplace=True)"
   ]
  },
  {
   "cell_type": "code",
   "execution_count": 21,
   "metadata": {},
   "outputs": [
    {
     "data": {
      "text/html": [
       "<div>\n",
       "<style scoped>\n",
       "    .dataframe tbody tr th:only-of-type {\n",
       "        vertical-align: middle;\n",
       "    }\n",
       "\n",
       "    .dataframe tbody tr th {\n",
       "        vertical-align: top;\n",
       "    }\n",
       "\n",
       "    .dataframe thead th {\n",
       "        text-align: right;\n",
       "    }\n",
       "</style>\n",
       "<table border=\"1\" class=\"dataframe\">\n",
       "  <thead>\n",
       "    <tr style=\"text-align: right;\">\n",
       "      <th></th>\n",
       "      <th>Amount</th>\n",
       "    </tr>\n",
       "  </thead>\n",
       "  <tbody>\n",
       "    <tr>\n",
       "      <th>Crypto</th>\n",
       "      <td>42669.486</td>\n",
       "    </tr>\n",
       "    <tr>\n",
       "      <th>Shares</th>\n",
       "      <td>42662.000</td>\n",
       "    </tr>\n",
       "  </tbody>\n",
       "</table>\n",
       "</div>"
      ],
      "text/plain": [
       "           Amount\n",
       "Crypto  42669.486\n",
       "Shares  42662.000"
      ]
     },
     "execution_count": 21,
     "metadata": {},
     "output_type": "execute_result"
    }
   ],
   "source": [
    "df_saving"
   ]
  },
  {
   "cell_type": "markdown",
   "metadata": {},
   "source": [
    "- Plotting Savings Pie Chart"
   ]
  },
  {
   "cell_type": "code",
   "execution_count": 22,
   "metadata": {},
   "outputs": [
    {
     "data": {
      "text/plain": [
       "array([<AxesSubplot:ylabel='Amount'>], dtype=object)"
      ]
     },
     "execution_count": 22,
     "metadata": {},
     "output_type": "execute_result"
    },
    {
     "data": {
      "image/png": "[encoded data removed]",
      "text/plain": [
       "<Figure size 432x288 with 1 Axes>"
      ]
     },
     "metadata": {},
     "output_type": "display_data"
    }
   ],
   "source": [
    "df_saving.plot(kind =\"pie\",subplots=True)"
   ]
  },
  {
   "cell_type": "markdown",
   "metadata": {},
   "source": [
    "- Analyzing Savings"
   ]
  },
  {
   "cell_type": "code",
   "execution_count": 24,
   "metadata": {},
   "outputs": [
    {
     "name": "stdout",
     "output_type": "stream",
     "text": [
      "Congratulations! You have enough money in your emergency fund\n"
     ]
    }
   ],
   "source": [
    "emergency_fund = monthly_income * 3\n",
    "total_saving = total_crypto+total_share\n",
    "if total_saving > emergency_fund:\n",
    "    print(\"Congratulations! You have enough money in your emergency fund\")\n",
    "elif total_saving == emergency_fund:\n",
    "    print(\"Congratulations! on reaching your financial goal\")\n",
    "elif total_saving < emergency_fund:\n",
    "    print((emergency_fund-total_saving), \"dollars away from your goal\")"
   ]
  },
  {
   "cell_type": "markdown",
   "metadata": {},
   "source": [
    "## Part 2 - Retirement Planning"
   ]
  },
  {
   "cell_type": "markdown",
   "metadata": {},
   "source": [
    "### Monte Carlo Simulation"
   ]
  },
  {
   "cell_type": "markdown",
   "metadata": {},
   "source": [
    "- Preparing Data"
   ]
  },
  {
   "cell_type": "code",
   "execution_count": 27,
   "metadata": {},
   "outputs": [
    {
     "data": {
      "text/html": [
       "<div>\n",
       "<style scoped>\n",
       "    .dataframe tbody tr th:only-of-type {\n",
       "        vertical-align: middle;\n",
       "    }\n",
       "\n",
       "    .dataframe tbody tr th {\n",
       "        vertical-align: top;\n",
       "    }\n",
       "\n",
       "    .dataframe thead th {\n",
       "        text-align: right;\n",
       "    }\n",
       "</style>\n",
       "<table border=\"1\" class=\"dataframe\">\n",
       "  <thead>\n",
       "    <tr style=\"text-align: right;\">\n",
       "      <th></th>\n",
       "      <th>AGG</th>\n",
       "      <th>SPY</th>\n",
       "    </tr>\n",
       "  </thead>\n",
       "  <tbody>\n",
       "    <tr>\n",
       "      <th>2015-01-21</th>\n",
       "      <td>111.5000</td>\n",
       "      <td>203.09</td>\n",
       "    </tr>\n",
       "    <tr>\n",
       "      <th>2015-01-22</th>\n",
       "      <td>111.4299</td>\n",
       "      <td>206.09</td>\n",
       "    </tr>\n",
       "    <tr>\n",
       "      <th>2015-01-23</th>\n",
       "      <td>111.7400</td>\n",
       "      <td>204.95</td>\n",
       "    </tr>\n",
       "    <tr>\n",
       "      <th>2015-01-26</th>\n",
       "      <td>111.6500</td>\n",
       "      <td>205.46</td>\n",
       "    </tr>\n",
       "    <tr>\n",
       "      <th>2015-01-27</th>\n",
       "      <td>111.6300</td>\n",
       "      <td>202.75</td>\n",
       "    </tr>\n",
       "  </tbody>\n",
       "</table>\n",
       "</div>"
      ],
      "text/plain": [
       "                 AGG     SPY\n",
       "2015-01-21  111.5000  203.09\n",
       "2015-01-22  111.4299  206.09\n",
       "2015-01-23  111.7400  204.95\n",
       "2015-01-26  111.6500  205.46\n",
       "2015-01-27  111.6300  202.75"
      ]
     },
     "execution_count": 27,
     "metadata": {},
     "output_type": "execute_result"
    }
   ],
   "source": [
    "start_date = pd.Timestamp('2015-01-21', tz='America/New_York').isoformat()\n",
    "end_date = pd.Timestamp('2020-01-21', tz='America/New_York').isoformat()\n",
    "portfolio_data = alpaca.get_barset(tickers,timeframe,start=start_date,end=end_date).df\n",
    "historical_data = pd.DataFrame()\n",
    "historical_data[\"AGG\"]= portfolio_data[\"AGG\"][\"close\"]\n",
    "historical_data[\"SPY\"]= portfolio_data[\"SPY\"][\"close\"]\n",
    "historical_data.index = historical_data.index.date\n",
    "historical_data.head()"
   ]
  },
  {
   "cell_type": "markdown",
   "metadata": {},
   "source": [
    "- Setting Simulation Instance"
   ]
  },
  {
   "cell_type": "code",
   "execution_count": 28,
   "metadata": {},
   "outputs": [
    {
     "data": {
      "text/html": [
       "<div>\n",
       "<style scoped>\n",
       "    .dataframe tbody tr th:only-of-type {\n",
       "        vertical-align: middle;\n",
       "    }\n",
       "\n",
       "    .dataframe tbody tr th {\n",
       "        vertical-align: top;\n",
       "    }\n",
       "\n",
       "    .dataframe thead tr th {\n",
       "        text-align: left;\n",
       "    }\n",
       "\n",
       "    .dataframe thead tr:last-of-type th {\n",
       "        text-align: right;\n",
       "    }\n",
       "</style>\n",
       "<table border=\"1\" class=\"dataframe\">\n",
       "  <thead>\n",
       "    <tr>\n",
       "      <th></th>\n",
       "      <th colspan=\"6\" halign=\"left\">AGG</th>\n",
       "      <th colspan=\"6\" halign=\"left\">SPY</th>\n",
       "    </tr>\n",
       "    <tr>\n",
       "      <th></th>\n",
       "      <th>open</th>\n",
       "      <th>high</th>\n",
       "      <th>low</th>\n",
       "      <th>close</th>\n",
       "      <th>volume</th>\n",
       "      <th>daily_return</th>\n",
       "      <th>open</th>\n",
       "      <th>high</th>\n",
       "      <th>low</th>\n",
       "      <th>close</th>\n",
       "      <th>volume</th>\n",
       "      <th>daily_return</th>\n",
       "    </tr>\n",
       "    <tr>\n",
       "      <th>time</th>\n",
       "      <th></th>\n",
       "      <th></th>\n",
       "      <th></th>\n",
       "      <th></th>\n",
       "      <th></th>\n",
       "      <th></th>\n",
       "      <th></th>\n",
       "      <th></th>\n",
       "      <th></th>\n",
       "      <th></th>\n",
       "      <th></th>\n",
       "      <th></th>\n",
       "    </tr>\n",
       "  </thead>\n",
       "  <tbody>\n",
       "    <tr>\n",
       "      <th>2015-01-21 00:00:00-05:00</th>\n",
       "      <td>111.68</td>\n",
       "      <td>111.81</td>\n",
       "      <td>111.3901</td>\n",
       "      <td>111.5000</td>\n",
       "      <td>1916736</td>\n",
       "      <td>NaN</td>\n",
       "      <td>201.50</td>\n",
       "      <td>203.66</td>\n",
       "      <td>200.94</td>\n",
       "      <td>203.09</td>\n",
       "      <td>106170094</td>\n",
       "      <td>NaN</td>\n",
       "    </tr>\n",
       "    <tr>\n",
       "      <th>2015-01-22 00:00:00-05:00</th>\n",
       "      <td>111.72</td>\n",
       "      <td>111.72</td>\n",
       "      <td>111.2900</td>\n",
       "      <td>111.4299</td>\n",
       "      <td>1868700</td>\n",
       "      <td>-0.000629</td>\n",
       "      <td>203.99</td>\n",
       "      <td>206.26</td>\n",
       "      <td>202.33</td>\n",
       "      <td>206.09</td>\n",
       "      <td>124570218</td>\n",
       "      <td>0.014772</td>\n",
       "    </tr>\n",
       "    <tr>\n",
       "      <th>2015-01-23 00:00:00-05:00</th>\n",
       "      <td>111.65</td>\n",
       "      <td>111.81</td>\n",
       "      <td>111.5400</td>\n",
       "      <td>111.7400</td>\n",
       "      <td>1449774</td>\n",
       "      <td>0.002783</td>\n",
       "      <td>205.79</td>\n",
       "      <td>206.10</td>\n",
       "      <td>204.81</td>\n",
       "      <td>204.95</td>\n",
       "      <td>90576108</td>\n",
       "      <td>-0.005532</td>\n",
       "    </tr>\n",
       "    <tr>\n",
       "      <th>2015-01-26 00:00:00-05:00</th>\n",
       "      <td>111.79</td>\n",
       "      <td>111.79</td>\n",
       "      <td>111.4500</td>\n",
       "      <td>111.6500</td>\n",
       "      <td>2477962</td>\n",
       "      <td>-0.000805</td>\n",
       "      <td>204.71</td>\n",
       "      <td>205.56</td>\n",
       "      <td>203.85</td>\n",
       "      <td>205.46</td>\n",
       "      <td>71274935</td>\n",
       "      <td>0.002488</td>\n",
       "    </tr>\n",
       "    <tr>\n",
       "      <th>2015-01-27 00:00:00-05:00</th>\n",
       "      <td>111.97</td>\n",
       "      <td>111.97</td>\n",
       "      <td>111.5450</td>\n",
       "      <td>111.6300</td>\n",
       "      <td>1538783</td>\n",
       "      <td>-0.000179</td>\n",
       "      <td>202.97</td>\n",
       "      <td>204.12</td>\n",
       "      <td>201.74</td>\n",
       "      <td>202.75</td>\n",
       "      <td>109506387</td>\n",
       "      <td>-0.013190</td>\n",
       "    </tr>\n",
       "  </tbody>\n",
       "</table>\n",
       "</div>"
      ],
      "text/plain": [
       "                              AGG                                       \\\n",
       "                             open    high       low     close   volume   \n",
       "time                                                                     \n",
       "2015-01-21 00:00:00-05:00  111.68  111.81  111.3901  111.5000  1916736   \n",
       "2015-01-22 00:00:00-05:00  111.72  111.72  111.2900  111.4299  1868700   \n",
       "2015-01-23 00:00:00-05:00  111.65  111.81  111.5400  111.7400  1449774   \n",
       "2015-01-26 00:00:00-05:00  111.79  111.79  111.4500  111.6500  2477962   \n",
       "2015-01-27 00:00:00-05:00  111.97  111.97  111.5450  111.6300  1538783   \n",
       "\n",
       "                                           SPY                          \\\n",
       "                          daily_return    open    high     low   close   \n",
       "time                                                                     \n",
       "2015-01-21 00:00:00-05:00          NaN  201.50  203.66  200.94  203.09   \n",
       "2015-01-22 00:00:00-05:00    -0.000629  203.99  206.26  202.33  206.09   \n",
       "2015-01-23 00:00:00-05:00     0.002783  205.79  206.10  204.81  204.95   \n",
       "2015-01-26 00:00:00-05:00    -0.000805  204.71  205.56  203.85  205.46   \n",
       "2015-01-27 00:00:00-05:00    -0.000179  202.97  204.12  201.74  202.75   \n",
       "\n",
       "                                                   \n",
       "                              volume daily_return  \n",
       "time                                               \n",
       "2015-01-21 00:00:00-05:00  106170094          NaN  \n",
       "2015-01-22 00:00:00-05:00  124570218     0.014772  \n",
       "2015-01-23 00:00:00-05:00   90576108    -0.005532  \n",
       "2015-01-26 00:00:00-05:00   71274935     0.002488  \n",
       "2015-01-27 00:00:00-05:00  109506387    -0.013190  "
      ]
     },
     "execution_count": 28,
     "metadata": {},
     "output_type": "execute_result"
    }
   ],
   "source": [
    "mc_fiveyear = MCSimulation(portfolio_data=portfolio_data,weights=[0.4,0.60],num_simulation=500,num_trading_days=7560)\n",
    "mc_fiveyear.portfolio_data.head()"
   ]
  },
  {
   "cell_type": "markdown",
   "metadata": {},
   "source": [
    "- Running Simulation"
   ]
  },
  {
   "cell_type": "code",
   "execution_count": 29,
   "metadata": {},
   "outputs": [
    {
     "name": "stdout",
     "output_type": "stream",
     "text": [
      "Running Monte Carlo simulation number 0.\n",
      "Running Monte Carlo simulation number 10.\n",
      "Running Monte Carlo simulation number 20.\n",
      "Running Monte Carlo simulation number 30.\n",
      "Running Monte Carlo simulation number 40.\n",
      "Running Monte Carlo simulation number 50.\n",
      "Running Monte Carlo simulation number 60.\n",
      "Running Monte Carlo simulation number 70.\n",
      "Running Monte Carlo simulation number 80.\n",
      "Running Monte Carlo simulation number 90.\n",
      "Running Monte Carlo simulation number 100.\n",
      "Running Monte Carlo simulation number 110.\n",
      "Running Monte Carlo simulation number 120.\n",
      "Running Monte Carlo simulation number 130.\n",
      "Running Monte Carlo simulation number 140.\n",
      "Running Monte Carlo simulation number 150.\n",
      "Running Monte Carlo simulation number 160.\n",
      "Running Monte Carlo simulation number 170.\n",
      "Running Monte Carlo simulation number 180.\n",
      "Running Monte Carlo simulation number 190.\n",
      "Running Monte Carlo simulation number 200.\n",
      "Running Monte Carlo simulation number 210.\n",
      "Running Monte Carlo simulation number 220.\n",
      "Running Monte Carlo simulation number 230.\n",
      "Running Monte Carlo simulation number 240.\n",
      "Running Monte Carlo simulation number 250.\n",
      "Running Monte Carlo simulation number 260.\n",
      "Running Monte Carlo simulation number 270.\n",
      "Running Monte Carlo simulation number 280.\n",
      "Running Monte Carlo simulation number 290.\n",
      "Running Monte Carlo simulation number 300.\n",
      "Running Monte Carlo simulation number 310.\n",
      "Running Monte Carlo simulation number 320.\n",
      "Running Monte Carlo simulation number 330.\n",
      "Running Monte Carlo simulation number 340.\n",
      "Running Monte Carlo simulation number 350.\n",
      "Running Monte Carlo simulation number 360.\n",
      "Running Monte Carlo simulation number 370.\n",
      "Running Monte Carlo simulation number 380.\n",
      "Running Monte Carlo simulation number 390.\n",
      "Running Monte Carlo simulation number 400.\n",
      "Running Monte Carlo simulation number 410.\n",
      "Running Monte Carlo simulation number 420.\n",
      "Running Monte Carlo simulation number 430.\n",
      "Running Monte Carlo simulation number 440.\n",
      "Running Monte Carlo simulation number 450.\n",
      "Running Monte Carlo simulation number 460.\n",
      "Running Monte Carlo simulation number 470.\n",
      "Running Monte Carlo simulation number 480.\n",
      "Running Monte Carlo simulation number 490.\n"
     ]
    },
    {
     "data": {
      "text/html": [
       "<div>\n",
       "<style scoped>\n",
       "    .dataframe tbody tr th:only-of-type {\n",
       "        vertical-align: middle;\n",
       "    }\n",
       "\n",
       "    .dataframe tbody tr th {\n",
       "        vertical-align: top;\n",
       "    }\n",
       "\n",
       "    .dataframe thead th {\n",
       "        text-align: right;\n",
       "    }\n",
       "</style>\n",
       "<table border=\"1\" class=\"dataframe\">\n",
       "  <thead>\n",
       "    <tr style=\"text-align: right;\">\n",
       "      <th></th>\n",
       "      <th>0</th>\n",
       "      <th>1</th>\n",
       "      <th>2</th>\n",
       "      <th>3</th>\n",
       "      <th>4</th>\n",
       "      <th>5</th>\n",
       "      <th>6</th>\n",
       "      <th>7</th>\n",
       "      <th>8</th>\n",
       "      <th>9</th>\n",
       "      <th>...</th>\n",
       "      <th>490</th>\n",
       "      <th>491</th>\n",
       "      <th>492</th>\n",
       "      <th>493</th>\n",
       "      <th>494</th>\n",
       "      <th>495</th>\n",
       "      <th>496</th>\n",
       "      <th>497</th>\n",
       "      <th>498</th>\n",
       "      <th>499</th>\n",
       "    </tr>\n",
       "  </thead>\n",
       "  <tbody>\n",
       "    <tr>\n",
       "      <th>0</th>\n",
       "      <td>1.000000</td>\n",
       "      <td>1.000000</td>\n",
       "      <td>1.000000</td>\n",
       "      <td>1.000000</td>\n",
       "      <td>1.000000</td>\n",
       "      <td>1.000000</td>\n",
       "      <td>1.000000</td>\n",
       "      <td>1.000000</td>\n",
       "      <td>1.000000</td>\n",
       "      <td>1.000000</td>\n",
       "      <td>...</td>\n",
       "      <td>1.000000</td>\n",
       "      <td>1.000000</td>\n",
       "      <td>1.000000</td>\n",
       "      <td>1.000000</td>\n",
       "      <td>1.000000</td>\n",
       "      <td>1.000000</td>\n",
       "      <td>1.000000</td>\n",
       "      <td>1.000000</td>\n",
       "      <td>1.000000</td>\n",
       "      <td>1.000000</td>\n",
       "    </tr>\n",
       "    <tr>\n",
       "      <th>1</th>\n",
       "      <td>1.002651</td>\n",
       "      <td>0.999971</td>\n",
       "      <td>0.999226</td>\n",
       "      <td>1.001194</td>\n",
       "      <td>1.002751</td>\n",
       "      <td>1.000957</td>\n",
       "      <td>0.999336</td>\n",
       "      <td>0.992799</td>\n",
       "      <td>1.002662</td>\n",
       "      <td>1.006806</td>\n",
       "      <td>...</td>\n",
       "      <td>1.007684</td>\n",
       "      <td>0.997199</td>\n",
       "      <td>1.000901</td>\n",
       "      <td>1.008772</td>\n",
       "      <td>1.000370</td>\n",
       "      <td>0.993287</td>\n",
       "      <td>1.003120</td>\n",
       "      <td>1.000727</td>\n",
       "      <td>1.004612</td>\n",
       "      <td>0.989748</td>\n",
       "    </tr>\n",
       "    <tr>\n",
       "      <th>2</th>\n",
       "      <td>1.006892</td>\n",
       "      <td>1.004339</td>\n",
       "      <td>1.004026</td>\n",
       "      <td>0.991777</td>\n",
       "      <td>1.005162</td>\n",
       "      <td>1.000348</td>\n",
       "      <td>1.006071</td>\n",
       "      <td>0.997772</td>\n",
       "      <td>1.000252</td>\n",
       "      <td>1.011607</td>\n",
       "      <td>...</td>\n",
       "      <td>1.007068</td>\n",
       "      <td>0.992569</td>\n",
       "      <td>1.004503</td>\n",
       "      <td>1.012251</td>\n",
       "      <td>1.008841</td>\n",
       "      <td>1.002550</td>\n",
       "      <td>1.001028</td>\n",
       "      <td>1.007845</td>\n",
       "      <td>1.012897</td>\n",
       "      <td>0.982142</td>\n",
       "    </tr>\n",
       "    <tr>\n",
       "      <th>3</th>\n",
       "      <td>1.002125</td>\n",
       "      <td>1.005588</td>\n",
       "      <td>1.013729</td>\n",
       "      <td>0.999245</td>\n",
       "      <td>1.007031</td>\n",
       "      <td>1.001894</td>\n",
       "      <td>0.992664</td>\n",
       "      <td>1.000224</td>\n",
       "      <td>1.002818</td>\n",
       "      <td>1.008909</td>\n",
       "      <td>...</td>\n",
       "      <td>1.005248</td>\n",
       "      <td>0.983301</td>\n",
       "      <td>1.004465</td>\n",
       "      <td>1.014404</td>\n",
       "      <td>1.011478</td>\n",
       "      <td>0.997485</td>\n",
       "      <td>0.999594</td>\n",
       "      <td>1.008023</td>\n",
       "      <td>1.016619</td>\n",
       "      <td>0.981247</td>\n",
       "    </tr>\n",
       "    <tr>\n",
       "      <th>4</th>\n",
       "      <td>1.004688</td>\n",
       "      <td>1.010948</td>\n",
       "      <td>1.011948</td>\n",
       "      <td>0.995236</td>\n",
       "      <td>1.009160</td>\n",
       "      <td>1.007684</td>\n",
       "      <td>0.991656</td>\n",
       "      <td>1.009666</td>\n",
       "      <td>1.001161</td>\n",
       "      <td>1.007102</td>\n",
       "      <td>...</td>\n",
       "      <td>0.997536</td>\n",
       "      <td>0.989042</td>\n",
       "      <td>0.998093</td>\n",
       "      <td>1.014471</td>\n",
       "      <td>1.013414</td>\n",
       "      <td>0.992796</td>\n",
       "      <td>0.997132</td>\n",
       "      <td>0.996992</td>\n",
       "      <td>1.013003</td>\n",
       "      <td>0.980820</td>\n",
       "    </tr>\n",
       "    <tr>\n",
       "      <th>...</th>\n",
       "      <td>...</td>\n",
       "      <td>...</td>\n",
       "      <td>...</td>\n",
       "      <td>...</td>\n",
       "      <td>...</td>\n",
       "      <td>...</td>\n",
       "      <td>...</td>\n",
       "      <td>...</td>\n",
       "      <td>...</td>\n",
       "      <td>...</td>\n",
       "      <td>...</td>\n",
       "      <td>...</td>\n",
       "      <td>...</td>\n",
       "      <td>...</td>\n",
       "      <td>...</td>\n",
       "      <td>...</td>\n",
       "      <td>...</td>\n",
       "      <td>...</td>\n",
       "      <td>...</td>\n",
       "      <td>...</td>\n",
       "      <td>...</td>\n",
       "    </tr>\n",
       "    <tr>\n",
       "      <th>7556</th>\n",
       "      <td>7.418559</td>\n",
       "      <td>11.752105</td>\n",
       "      <td>6.290841</td>\n",
       "      <td>4.291647</td>\n",
       "      <td>5.853081</td>\n",
       "      <td>3.100268</td>\n",
       "      <td>5.755271</td>\n",
       "      <td>3.949272</td>\n",
       "      <td>11.824760</td>\n",
       "      <td>4.405770</td>\n",
       "      <td>...</td>\n",
       "      <td>5.249553</td>\n",
       "      <td>7.402719</td>\n",
       "      <td>7.592062</td>\n",
       "      <td>11.902620</td>\n",
       "      <td>6.244765</td>\n",
       "      <td>4.149217</td>\n",
       "      <td>8.005816</td>\n",
       "      <td>8.443989</td>\n",
       "      <td>5.392952</td>\n",
       "      <td>8.797962</td>\n",
       "    </tr>\n",
       "    <tr>\n",
       "      <th>7557</th>\n",
       "      <td>7.408352</td>\n",
       "      <td>11.786283</td>\n",
       "      <td>6.307754</td>\n",
       "      <td>4.275844</td>\n",
       "      <td>5.821141</td>\n",
       "      <td>3.106492</td>\n",
       "      <td>5.787873</td>\n",
       "      <td>3.923032</td>\n",
       "      <td>11.765497</td>\n",
       "      <td>4.413355</td>\n",
       "      <td>...</td>\n",
       "      <td>5.244249</td>\n",
       "      <td>7.444708</td>\n",
       "      <td>7.541860</td>\n",
       "      <td>11.800228</td>\n",
       "      <td>6.292859</td>\n",
       "      <td>4.126502</td>\n",
       "      <td>7.975437</td>\n",
       "      <td>8.404385</td>\n",
       "      <td>5.375155</td>\n",
       "      <td>8.692242</td>\n",
       "    </tr>\n",
       "    <tr>\n",
       "      <th>7558</th>\n",
       "      <td>7.385741</td>\n",
       "      <td>11.885504</td>\n",
       "      <td>6.313652</td>\n",
       "      <td>4.260976</td>\n",
       "      <td>5.828155</td>\n",
       "      <td>3.107016</td>\n",
       "      <td>5.801991</td>\n",
       "      <td>3.922754</td>\n",
       "      <td>11.823634</td>\n",
       "      <td>4.422064</td>\n",
       "      <td>...</td>\n",
       "      <td>5.245254</td>\n",
       "      <td>7.397911</td>\n",
       "      <td>7.650701</td>\n",
       "      <td>11.917651</td>\n",
       "      <td>6.301537</td>\n",
       "      <td>4.137200</td>\n",
       "      <td>7.928786</td>\n",
       "      <td>8.434043</td>\n",
       "      <td>5.421813</td>\n",
       "      <td>8.712148</td>\n",
       "    </tr>\n",
       "    <tr>\n",
       "      <th>7559</th>\n",
       "      <td>7.460555</td>\n",
       "      <td>11.860012</td>\n",
       "      <td>6.311994</td>\n",
       "      <td>4.263848</td>\n",
       "      <td>5.776743</td>\n",
       "      <td>3.112333</td>\n",
       "      <td>5.816586</td>\n",
       "      <td>3.969481</td>\n",
       "      <td>11.858775</td>\n",
       "      <td>4.430715</td>\n",
       "      <td>...</td>\n",
       "      <td>5.232884</td>\n",
       "      <td>7.436138</td>\n",
       "      <td>7.693239</td>\n",
       "      <td>11.919641</td>\n",
       "      <td>6.323591</td>\n",
       "      <td>4.091721</td>\n",
       "      <td>7.872142</td>\n",
       "      <td>8.411054</td>\n",
       "      <td>5.459841</td>\n",
       "      <td>8.649426</td>\n",
       "    </tr>\n",
       "    <tr>\n",
       "      <th>7560</th>\n",
       "      <td>7.422073</td>\n",
       "      <td>11.815060</td>\n",
       "      <td>6.399582</td>\n",
       "      <td>4.282536</td>\n",
       "      <td>5.789170</td>\n",
       "      <td>3.103318</td>\n",
       "      <td>5.862042</td>\n",
       "      <td>3.951757</td>\n",
       "      <td>11.838512</td>\n",
       "      <td>4.410340</td>\n",
       "      <td>...</td>\n",
       "      <td>5.221167</td>\n",
       "      <td>7.423868</td>\n",
       "      <td>7.671287</td>\n",
       "      <td>11.910675</td>\n",
       "      <td>6.312420</td>\n",
       "      <td>4.118003</td>\n",
       "      <td>7.843967</td>\n",
       "      <td>8.364926</td>\n",
       "      <td>5.452879</td>\n",
       "      <td>8.575948</td>\n",
       "    </tr>\n",
       "  </tbody>\n",
       "</table>\n",
       "<p>7561 rows × 500 columns</p>\n",
       "</div>"
      ],
      "text/plain": [
       "           0          1         2         3         4         5         6    \\\n",
       "0     1.000000   1.000000  1.000000  1.000000  1.000000  1.000000  1.000000   \n",
       "1     1.002651   0.999971  0.999226  1.001194  1.002751  1.000957  0.999336   \n",
       "2     1.006892   1.004339  1.004026  0.991777  1.005162  1.000348  1.006071   \n",
       "3     1.002125   1.005588  1.013729  0.999245  1.007031  1.001894  0.992664   \n",
       "4     1.004688   1.010948  1.011948  0.995236  1.009160  1.007684  0.991656   \n",
       "...        ...        ...       ...       ...       ...       ...       ...   \n",
       "7556  7.418559  11.752105  6.290841  4.291647  5.853081  3.100268  5.755271   \n",
       "7557  7.408352  11.786283  6.307754  4.275844  5.821141  3.106492  5.787873   \n",
       "7558  7.385741  11.885504  6.313652  4.260976  5.828155  3.107016  5.801991   \n",
       "7559  7.460555  11.860012  6.311994  4.263848  5.776743  3.112333  5.816586   \n",
       "7560  7.422073  11.815060  6.399582  4.282536  5.789170  3.103318  5.862042   \n",
       "\n",
       "           7          8         9    ...       490       491       492  \\\n",
       "0     1.000000   1.000000  1.000000  ...  1.000000  1.000000  1.000000   \n",
       "1     0.992799   1.002662  1.006806  ...  1.007684  0.997199  1.000901   \n",
       "2     0.997772   1.000252  1.011607  ...  1.007068  0.992569  1.004503   \n",
       "3     1.000224   1.002818  1.008909  ...  1.005248  0.983301  1.004465   \n",
       "4     1.009666   1.001161  1.007102  ...  0.997536  0.989042  0.998093   \n",
       "...        ...        ...       ...  ...       ...       ...       ...   \n",
       "7556  3.949272  11.824760  4.405770  ...  5.249553  7.402719  7.592062   \n",
       "7557  3.923032  11.765497  4.413355  ...  5.244249  7.444708  7.541860   \n",
       "7558  3.922754  11.823634  4.422064  ...  5.245254  7.397911  7.650701   \n",
       "7559  3.969481  11.858775  4.430715  ...  5.232884  7.436138  7.693239   \n",
       "7560  3.951757  11.838512  4.410340  ...  5.221167  7.423868  7.671287   \n",
       "\n",
       "            493       494       495       496       497       498       499  \n",
       "0      1.000000  1.000000  1.000000  1.000000  1.000000  1.000000  1.000000  \n",
       "1      1.008772  1.000370  0.993287  1.003120  1.000727  1.004612  0.989748  \n",
       "2      1.012251  1.008841  1.002550  1.001028  1.007845  1.012897  0.982142  \n",
       "3      1.014404  1.011478  0.997485  0.999594  1.008023  1.016619  0.981247  \n",
       "4      1.014471  1.013414  0.992796  0.997132  0.996992  1.013003  0.980820  \n",
       "...         ...       ...       ...       ...       ...       ...       ...  \n",
       "7556  11.902620  6.244765  4.149217  8.005816  8.443989  5.392952  8.797962  \n",
       "7557  11.800228  6.292859  4.126502  7.975437  8.404385  5.375155  8.692242  \n",
       "7558  11.917651  6.301537  4.137200  7.928786  8.434043  5.421813  8.712148  \n",
       "7559  11.919641  6.323591  4.091721  7.872142  8.411054  5.459841  8.649426  \n",
       "7560  11.910675  6.312420  4.118003  7.843967  8.364926  5.452879  8.575948  \n",
       "\n",
       "[7561 rows x 500 columns]"
      ]
     },
     "execution_count": 29,
     "metadata": {},
     "output_type": "execute_result"
    }
   ],
   "source": [
    "mc_fiveyear.calc_cumulative_return()"
   ]
  },
  {
   "cell_type": "markdown",
   "metadata": {},
   "source": [
    "- Plotting Simulation"
   ]
  },
  {
   "cell_type": "code",
   "execution_count": 30,
   "metadata": {},
   "outputs": [
    {
     "data": {
      "image/png": "[encoded data removed]",
      "text/plain": [
       "<Figure size 432x288 with 1 Axes>"
      ]
     },
     "metadata": {
      "needs_background": "light"
     },
     "output_type": "display_data"
    }
   ],
   "source": [
    "line_plot = mc_fiveyear.plot_simulation()"
   ]
  },
  {
   "cell_type": "code",
   "execution_count": 31,
   "metadata": {},
   "outputs": [
    {
     "data": {
      "image/png": "[encoded data removed]",
      "text/plain": [
       "<Figure size 432x288 with 1 Axes>"
      ]
     },
     "metadata": {
      "needs_background": "light"
     },
     "output_type": "display_data"
    }
   ],
   "source": [
    "dist_plot = mc_fiveyear.plot_distribution()"
   ]
  },
  {
   "cell_type": "markdown",
   "metadata": {},
   "source": [
    "### Retirement Analysis"
   ]
  },
  {
   "cell_type": "markdown",
   "metadata": {},
   "source": [
    "- Summary Statistics"
   ]
  },
  {
   "cell_type": "code",
   "execution_count": 32,
   "metadata": {},
   "outputs": [
    {
     "data": {
      "text/plain": [
       "count           500.000000\n",
       "mean              7.228404\n",
       "std               3.207443\n",
       "min               1.539472\n",
       "25%               4.886978\n",
       "50%               6.623664\n",
       "75%               8.994072\n",
       "max              21.589846\n",
       "95% CI Lower      2.826616\n",
       "95% CI Upper     15.755638\n",
       "Name: 7560, dtype: float64"
      ]
     },
     "execution_count": 32,
     "metadata": {},
     "output_type": "execute_result"
    }
   ],
   "source": [
    "summary = mc_fiveyear.summarize_cumulative_return()\n",
    "summary"
   ]
  },
  {
   "cell_type": "markdown",
   "metadata": {},
   "source": [
    "- Calculating Returns Based On 20K Investment"
   ]
  },
  {
   "cell_type": "code",
   "execution_count": 33,
   "metadata": {},
   "outputs": [
    {
     "name": "stdout",
     "output_type": "stream",
     "text": [
      "There is a 95% chance that an initial investment of $20000 in the portfolio over the next 30 years will end within in the range of $56532.32 and $315112.76\n"
     ]
    }
   ],
   "source": [
    "initial_investment = 20000\n",
    "ci_lower = round(summary[8]*initial_investment,2)\n",
    "ci_upper = round(summary[9]*initial_investment,2)\n",
    "print(f\"There is a 95% chance that an initial investment of ${initial_investment} in the portfolio\"\n",
    "      f\" over the next 30 years will end within in the range of\"\n",
    "      f\" ${ci_lower} and ${ci_upper}\")"
   ]
  },
  {
   "cell_type": "markdown",
   "metadata": {},
   "source": [
    "- Calculating Returns Based On 30K Investment"
   ]
  },
  {
   "cell_type": "code",
   "execution_count": 34,
   "metadata": {},
   "outputs": [
    {
     "name": "stdout",
     "output_type": "stream",
     "text": [
      "There is a 95% chance that an initial investment of $30000.0 in the portfolio over the next 30 years will end within in the range of $84798.49 and $472669.13\n"
     ]
    }
   ],
   "source": [
    "initials_investment = 20000 * 1.5\n",
    "ci_lowers = round(summary[8]*initials_investment,2)\n",
    "ci_uppers = round(summary[9]*initials_investment,2)\n",
    "print(f\"There is a 95% chance that an initial investment of ${initials_investment} in the portfolio\"\n",
    "      f\" over the next 30 years will end within in the range of\"\n",
    "      f\" ${ci_lowers} and ${ci_uppers}\")"
   ]
  },
  {
   "cell_type": "code",
   "execution_count": null,
   "metadata": {},
   "outputs": [],
   "source": []
  }
 ],
 "metadata": {
  "kernelspec": {
   "display_name": "Python [conda env:dev]",
   "language": "python",
   "name": "conda-env-dev-py"
  },
  "language_info": {
   "codemirror_mode": {
    "name": "ipython",
    "version": 3
   },
   "file_extension": ".py",
   "mimetype": "text/x-python",
   "name": "python",
   "nbconvert_exporter": "python",
   "pygments_lexer": "ipython3",
   "version": "3.8.5"
  }
 },
 "nbformat": 4,
 "nbformat_minor": 4
}
